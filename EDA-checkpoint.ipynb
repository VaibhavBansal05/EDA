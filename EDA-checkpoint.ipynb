{
 "cells": [
  {
   "cell_type": "code",
   "execution_count": null,
   "id": "704cab07-204a-4411-8a4c-063e3c860913",
   "metadata": {},
   "outputs": [],
   "source": [
    "import numpy as np\n",
    "import pandas as pd\n",
    "import matplotlib.pyplot as plt\n",
    "import seaborn as sns\n",
    "from sklearn.preprocessing import OneHotEncoder, LabelEncoder"
   ]
  },
  {
   "cell_type": "code",
   "execution_count": null,
   "id": "06e90d6d-3413-47fa-a4fd-af6cdba0cf74",
   "metadata": {},
   "outputs": [],
   "source": [
    "# Load the datas\n",
    "file_path = 'weatherAUS 2.csv'\n",
    "df = pd.read_csv(file_path)"
   ]
  },
  {
   "cell_type": "code",
   "execution_count": null,
   "id": "a8209d9d-9eec-4676-804e-a78da63fb32e",
   "metadata": {},
   "outputs": [],
   "source": [
    "# Print first few rows\n",
    "print(\"First few rows of the dataframe:\")\n",
    "print(df.head())"
   ]
  },
  {
   "cell_type": "code",
   "execution_count": null,
   "id": "898b536f",
   "metadata": {},
   "outputs": [],
   "source": [
    "# Print basic info about the data\n",
    "df.info()"
   ]
  },
  {
   "cell_type": "code",
   "execution_count": null,
   "id": "ffe0aa3e",
   "metadata": {},
   "outputs": [],
   "source": [
    "# Extract date in numerical format\n",
    "df['Date'] = pd.to_datetime(df['Date'])\n",
    "df['Year'] = df['Date'].dt.year\n",
    "df['Month'] = df['Date'].dt.month\n",
    "df['Day'] = df['Date'].dt.day"
   ]
  },
  {
   "cell_type": "code",
   "execution_count": null,
   "id": "bb6bdb10",
   "metadata": {},
   "outputs": [],
   "source": [
    "# Apply binary encoding\n",
    "label_encoder = LabelEncoder()\n",
    "df['RainToday'] = label_encoder.fit_transform(df['RainToday'])\n",
    "df['RainTomorrow'] = label_encoder.fit_transform(df['RainTomorrow'])"
   ]
  },
  {
   "cell_type": "code",
   "execution_count": null,
   "id": "4aa0ffc9",
   "metadata": {},
   "outputs": [],
   "source": [
    "# Apply one hot encoding\n",
    "categorical_cols = ['WindGustDir', 'WindDir9am', 'WindDir3pm']\n",
    "df = pd.get_dummies(df, columns=categorical_cols)"
   ]
  },
  {
   "cell_type": "code",
   "execution_count": null,
   "id": "dee19ff0-c4d8-46a0-8857-95ebb7e199f5",
   "metadata": {},
   "outputs": [],
   "source": [
    "# Check skewness of data\n",
    "num_cols = df.select_dtypes('number').columns\n",
    "skew_vals = df[num_cols].skew()\n",
    "skew_vals"
   ]
  },
  {
   "cell_type": "code",
   "execution_count": null,
   "id": "96386275",
   "metadata": {},
   "outputs": [],
   "source": [
    "# Fixing the skewness\n",
    "skewness = df[num_cols].skew().sort_values(ascending=False)\n",
    "print(skewness)\n",
    "\n",
    "high_skew = skewness[skewness > 0.80].index\n",
    "for col in high_skew:\n",
    "    df[col] = df[col].apply(lambda x: np.log1p(x))\n",
    "\n",
    "new_skewness = df[high_skew].skew().sort_values(ascending=False)\n",
    "print(new_skewness)"
   ]
  },
  {
   "cell_type": "code",
   "execution_count": null,
   "id": "b9b59c71-e49b-418d-8e7b-aca32df21f33",
   "metadata": {},
   "outputs": [],
   "source": [
    "# Print statistics of the data\n",
    "print(df.describe(include='all'))"
   ]
  },
  {
   "cell_type": "code",
   "execution_count": null,
   "id": "821842d3-6e3f-4ca3-8cb6-a6878c193b4e",
   "metadata": {},
   "outputs": [],
   "source": [
    "# Check for missing values\n",
    "missing_values = df.isnull().sum()\n",
    "print(\"Missing values in each column:\")\n",
    "print(missing_values)"
   ]
  },
  {
   "cell_type": "code",
   "execution_count": null,
   "id": "7cd613f7-e8e2-49d8-a1c2-46b67071995f",
   "metadata": {},
   "outputs": [],
   "source": [
    "# Filling the missing values\n",
    "numeric_cols = df.select_dtypes(include=['number']).columns\n",
    "df[numeric_cols] = df[numeric_cols].fillna(df[numeric_cols].mean())\n",
    "\n",
    "non_numeric_cols = df.select_dtypes(exclude=['number']).columns\n",
    "for column in non_numeric_cols:\n",
    "    # df[column].fillna(df[column].mode()[0], inplace=True)\n",
    "    df[column] = df[column].fillna(df[column].mode()[0])"
   ]
  },
  {
   "cell_type": "code",
   "execution_count": null,
   "id": "ee5e3669-6bb7-4310-b338-bcb50b32a60a",
   "metadata": {},
   "outputs": [],
   "source": [
    "# Again check for missing values\n",
    "missing_values_after = df.isnull().sum()\n",
    "print(missing_values_after)"
   ]
  },
  {
   "cell_type": "code",
   "execution_count": null,
   "id": "8c5df9ba-7865-4928-bb73-3b4aff8bed20",
   "metadata": {},
   "outputs": [],
   "source": [
    "# Display the correlation matrix of the numerical columns\n",
    "print(\"\\nCorrelation matrix of the numerical columns:\")\n",
    "print(df[numeric_cols].corr())"
   ]
  },
  {
   "cell_type": "code",
   "execution_count": null,
   "id": "ab20cdf1-d466-4a34-b61c-845511e23f5d",
   "metadata": {},
   "outputs": [],
   "source": [
    "# Visualize the correlation matrix\n",
    "plt.figure(figsize=(20, 10))\n",
    "sns.heatmap(df[numeric_cols].corr(), annot=True, cmap='coolwarm')\n",
    "plt.show()"
   ]
  },
  {
   "cell_type": "code",
   "execution_count": null,
   "id": "8fc20066-d946-411e-bbcf-96e997829af5",
   "metadata": {},
   "outputs": [],
   "source": []
  }
 ],
 "metadata": {
  "kernelspec": {
   "display_name": "Python 3 (ipykernel)",
   "language": "python",
   "name": "python3"
  },
  "language_info": {
   "codemirror_mode": {
    "name": "ipython",
    "version": 3
   },
   "file_extension": ".py",
   "mimetype": "text/x-python",
   "name": "python",
   "nbconvert_exporter": "python",
   "pygments_lexer": "ipython3",
   "version": "3.12.3"
  }
 },
 "nbformat": 4,
 "nbformat_minor": 5
}
